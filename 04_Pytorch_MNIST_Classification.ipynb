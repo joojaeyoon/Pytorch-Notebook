{
 "cells": [
  {
   "cell_type": "markdown",
   "metadata": {},
   "source": [
    "# MNIST Data Classification\n"
   ]
  },
  {
   "cell_type": "markdown",
   "metadata": {},
   "source": [
    "Linear Network Model"
   ]
  },
  {
   "cell_type": "code",
   "execution_count": 31,
   "metadata": {},
   "outputs": [],
   "source": [
    "import torch.nn as nn\n",
    "\n",
    "class MyNet(nn.Module):\n",
    "    def __init__(self):\n",
    "        super(MyNet,self).__init__()\n",
    "        self.layer=nn.Sequential(\n",
    "            nn.Linear(28*28,10,bias=True),\n",
    "            nn.Sigmoid()\n",
    "        )\n",
    "        \n",
    "    def forward(self,x):\n",
    "        return self.layer(x)\n",
    "        "
   ]
  },
  {
   "cell_type": "markdown",
   "metadata": {},
   "source": [
    "Train"
   ]
  },
  {
   "cell_type": "code",
   "execution_count": 32,
   "metadata": {},
   "outputs": [
    {
     "name": "stdout",
     "output_type": "stream",
     "text": [
      "Epoch 0, cost = 1.591469754\n",
      "Epoch 1, cost = 1.571132305\n",
      "Epoch 2, cost = 1.569553419\n",
      "Epoch 3, cost = 1.562904987\n",
      "Epoch 4, cost = 1.561034728\n",
      "Epoch 5, cost = 1.560374980\n",
      "Epoch 6, cost = 1.561950907\n",
      "Epoch 7, cost = 1.559554034\n",
      "Epoch 8, cost = 1.556736662\n",
      "Epoch 9, cost = 1.557407878\n",
      "Epoch 10, cost = 1.556681979\n",
      "Epoch 11, cost = 1.557002818\n",
      "Epoch 12, cost = 1.553860056\n",
      "Epoch 13, cost = 1.553480109\n",
      "Epoch 14, cost = 1.553294342\n"
     ]
    }
   ],
   "source": [
    "import torch\n",
    "import torchvision.datasets as dsets\n",
    "import torchvision.transforms as transforms\n",
    "from torch.utils.data import DataLoader\n",
    "\n",
    "GPU=True\n",
    "\n",
    "mnist_train=dsets.MNIST(root='MNIST_data/',train=True,transform=transforms.ToTensor(),download=True)\n",
    "mnist_test=dsets.MNIST(root='MNIST_data/',train=False,transform=transforms.ToTensor(),download=True)\n",
    "\n",
    "batch_size=64\n",
    "\n",
    "data_loader=DataLoader(dataset=mnist_train,batch_size=batch_size,shuffle=True)\n",
    "\n",
    "model=MyNet()\n",
    "\n",
    "optimizer=torch.optim.Adam(model.parameters(),lr=0.1)\n",
    "criterion=torch.nn.CrossEntropyLoss()\n",
    "\n",
    "if GPU:\n",
    "    model=model.to('cuda')\n",
    "    criterion=criterion.to('cuda')\n",
    "\n",
    "for epoch in range(15):\n",
    "    avg_cost=0.0\n",
    "    for X,Y in data_loader:\n",
    "        X=X.view(-1,28*28)\n",
    "        if GPU:\n",
    "            X=X.to('cuda')\n",
    "            Y=Y.to('cuda')\n",
    "        \n",
    "        optimizer.zero_grad()\n",
    "        \n",
    "        hypothesis=model(X)\n",
    "        \n",
    "        cost=criterion(hypothesis,Y)\n",
    "        cost.backward()\n",
    "        optimizer.step()\n",
    "        \n",
    "        avg_cost+=cost.item()\n",
    "    \n",
    "    avg_cost/=len(data_loader)\n",
    "    print('Epoch {}, cost = {:.9f}'.format(epoch,avg_cost))"
   ]
  },
  {
   "cell_type": "code",
   "execution_count": 33,
   "metadata": {},
   "outputs": [
    {
     "data": {
      "image/png": "[encoded data removed]",
      "text/plain": [
       "<Figure size 432x288 with 5 Axes>"
      ]
     },
     "metadata": {
      "needs_background": "light"
     },
     "output_type": "display_data"
    },
    {
     "name": "stdout",
     "output_type": "stream",
     "text": [
      "tensor([6, 8, 1, 2, 7], device='cuda:0')\n",
      "accuracy = 0.8482285031847133\n"
     ]
    }
   ],
   "source": [
    "import matplotlib.pyplot as plt\n",
    "%matplotlib inline\n",
    "\n",
    "test_loader=DataLoader(dataset=mnist_test,batch_size=batch_size,shuffle=True)\n",
    "\n",
    "accuracy=0.0\n",
    "for X,Y in test_loader:\n",
    "    X=X.view(-1,28*28)\n",
    "    \n",
    "    if GPU:\n",
    "        X=X.to('cuda')\n",
    "        Y=Y.to('cuda')\n",
    "        \n",
    "    prediction=model(X)\n",
    "    \n",
    "    accuracy+=(prediction.argmax(1)==Y).float().mean().item()\n",
    "else:\n",
    "    fig,(axes)=plt.subplots(1,5)\n",
    "    \n",
    "    for i,ax in enumerate(axes):\n",
    "        ax.imshow(X[i].cpu().view(28,28),cmap='gray')\n",
    "    plt.show()\n",
    "    print(Y[:5].data)\n",
    "accuracy/=len(test_loader)\n",
    "\n",
    "print('accuracy = {}'.format(accuracy))\n",
    "    "
   ]
  },
  {
   "cell_type": "markdown",
   "metadata": {},
   "source": [
    "# CNN"
   ]
  },
  {
   "cell_type": "markdown",
   "metadata": {},
   "source": [
    "CNN Network Model"
   ]
  },
  {
   "cell_type": "code",
   "execution_count": 21,
   "metadata": {},
   "outputs": [],
   "source": [
    "import torch.nn as nn\n",
    "import torch\n",
    "class MyNet(nn.Module):\n",
    "    def __init__(self):\n",
    "        super(MyNet,self).__init__()\n",
    "        self.layer1=nn.Sequential(\n",
    "            nn.Conv2d(1,32,3,2,1),\n",
    "            nn.ReLU(),\n",
    "            \n",
    "            nn.Conv2d(32,64,3,2,1),\n",
    "            nn.ReLU(),\n",
    "            \n",
    "            nn.Conv2d(64,128,3,2,1),\n",
    "            nn.ReLU()\n",
    "        )\n",
    "        self.layer2=nn.Sequential(\n",
    "            nn.Linear(128*4*4,128,bias=True),\n",
    "            nn.Sigmoid(),\n",
    "            nn.Linear(128,10,bias=True),\n",
    "            nn.Sigmoid()\n",
    "        )\n",
    "        \n",
    "    def forward(self,x):\n",
    "        output=self.layer1(x)\n",
    "        output=output.view(output.size(0),-1)\n",
    "        output=self.layer2(output)\n",
    "        \n",
    "        return output"
   ]
  },
  {
   "cell_type": "markdown",
   "metadata": {},
   "source": [
    "Train"
   ]
  },
  {
   "cell_type": "code",
   "execution_count": 19,
   "metadata": {},
   "outputs": [
    {
     "name": "stdout",
     "output_type": "stream",
     "text": [
      "Start Training..\n",
      "Epoch 0, cost = 1.580978695\n",
      "Epoch 1, cost = 1.484290890\n",
      "Epoch 2, cost = 1.475975146\n",
      "Epoch 3, cost = 1.472314467\n",
      "Epoch 4, cost = 1.469884751\n",
      "Epoch 5, cost = 1.468033864\n",
      "Epoch 6, cost = 1.466713879\n",
      "Epoch 7, cost = 1.465647795\n",
      "Epoch 8, cost = 1.465267396\n",
      "Epoch 9, cost = 1.464732069\n",
      "Epoch 10, cost = 1.464238420\n",
      "Epoch 11, cost = 1.463862929\n",
      "Epoch 12, cost = 1.463942931\n",
      "Epoch 13, cost = 1.463349468\n",
      "Epoch 14, cost = 1.463426393\n"
     ]
    }
   ],
   "source": [
    "import torch\n",
    "import torchvision.datasets as dsets\n",
    "import torchvision.transforms as transforms\n",
    "from torch.utils.data import DataLoader\n",
    "\n",
    "GPU=True\n",
    "\n",
    "mnist_train=dsets.MNIST(root='MNIST_data/',train=True,transform=transforms.ToTensor(),download=True)\n",
    "mnist_test=dsets.MNIST(root='MNIST_data/',train=False,transform=transforms.ToTensor(),download=True)\n",
    "\n",
    "batch_size=64\n",
    "\n",
    "data_loader=DataLoader(dataset=mnist_train,batch_size=batch_size,shuffle=True)\n",
    "\n",
    "model=MyNet()\n",
    "\n",
    "optimizer=torch.optim.Adam(model.parameters(),lr=0.001)\n",
    "criterion=torch.nn.CrossEntropyLoss()\n",
    "\n",
    "if GPU:\n",
    "    model=model.to('cuda')\n",
    "    criterion=criterion.to('cuda')\n",
    "\n",
    "for epoch in range(15):\n",
    "    avg_cost=0.0\n",
    "    for X,Y in data_loader:\n",
    "        if GPU:\n",
    "            X=X.to('cuda')\n",
    "            Y=Y.to('cuda')\n",
    "        \n",
    "        optimizer.zero_grad()\n",
    "        \n",
    "        hypothesis=model(X)\n",
    "        \n",
    "        cost=criterion(hypothesis,Y)\n",
    "        cost.backward()\n",
    "        optimizer.step()\n",
    "        \n",
    "        avg_cost+=cost.item()\n",
    "    \n",
    "    avg_cost/=len(data_loader)\n",
    "    print('Epoch {}, cost = {:.9f}'.format(epoch,avg_cost))"
   ]
  },
  {
   "cell_type": "markdown",
   "metadata": {},
   "source": [
    "Test"
   ]
  },
  {
   "cell_type": "code",
   "execution_count": 29,
   "metadata": {},
   "outputs": [
    {
     "data": {
      "image/png": "[encoded data removed]",
      "text/plain": [
       "<Figure size 432x288 with 5 Axes>"
      ]
     },
     "metadata": {
      "needs_background": "light"
     },
     "output_type": "display_data"
    },
    {
     "name": "stdout",
     "output_type": "stream",
     "text": [
      "tensor([6, 7, 8, 5, 4], device='cuda:0')\n",
      "accuracy = 0.9902468152866242\n"
     ]
    }
   ],
   "source": [
    "import matplotlib.pyplot as plt\n",
    "%matplotlib inline\n",
    "\n",
    "test_loader=DataLoader(dataset=mnist_test,batch_size=batch_size,shuffle=True)\n",
    "\n",
    "accuracy=0.0\n",
    "for X,Y in test_loader:    \n",
    "    if GPU:\n",
    "        X=X.to('cuda')\n",
    "        Y=Y.to('cuda')\n",
    "        \n",
    "    prediction=model(X)\n",
    "    \n",
    "    accuracy+=(prediction.argmax(1)==Y).float().mean().item()\n",
    "else:\n",
    "    fig,(axes)=plt.subplots(1,5)\n",
    "    \n",
    "    for i,ax in enumerate(axes):\n",
    "        ax.imshow(X[i].cpu().view(28,28),cmap='gray')\n",
    "    plt.show()\n",
    "    print(Y[:5].data)\n",
    "accuracy/=len(test_loader)\n",
    "\n",
    "print('accuracy = {}'.format(accuracy))\n",
    "    "
   ]
  }
 ],
 "metadata": {
  "kernelspec": {
   "display_name": "PyTorch",
   "language": "python",
   "name": "pytorch"
  },
  "language_info": {
   "codemirror_mode": {
    "name": "ipython",
    "version": 3
   },
   "file_extension": ".py",
   "mimetype": "text/x-python",
   "name": "python",
   "nbconvert_exporter": "python",
   "pygments_lexer": "ipython3",
   "version": "3.7.3"
  }
 },
 "nbformat": 4,
 "nbformat_minor": 2
}
