{
 "cells": [
  {
   "cell_type": "code",
   "execution_count": 1,
   "metadata": {},
   "outputs": [],
   "source": [
    "import torch\n",
    "import torch.nn as nn\n",
    "import torch.optim as optim\n",
    "import torch.nn.functional as F\n",
    "import matplotlib.pyplot as plt\n",
    "import torchvision\n",
    "import torchvision.datasets as dsets\n",
    "import torchvision.transforms as transforms\n",
    "from torch.utils.data import DataLoader\n",
    "%matplotlib inline\n"
   ]
  },
  {
   "cell_type": "markdown",
   "metadata": {},
   "source": [
    "Network Model"
   ]
  },
  {
   "cell_type": "code",
   "execution_count": 2,
   "metadata": {},
   "outputs": [],
   "source": [
    "\n",
    "class Net(nn.Module):\n",
    "    def __init__(self):\n",
    "        super(Net,self).__init__()\n",
    "        \n",
    "        self.layer1=nn.Sequential(\n",
    "            nn.Conv2d(3,32,3,2,1),\n",
    "            nn.BatchNorm2d(32),\n",
    "            nn.ReLU(),\n",
    "            \n",
    "            nn.Conv2d(32,64,3,2,1),\n",
    "            nn.BatchNorm2d(64),\n",
    "            nn.ReLU(),\n",
    "            \n",
    "            nn.Conv2d(64,128,3,2,1),\n",
    "            nn.BatchNorm2d(128),\n",
    "            nn.ReLU()\n",
    "        )\n",
    "        self.layer2=nn.Sequential(\n",
    "            nn.Linear(128*4*4,128,bias=True),\n",
    "            nn.Sigmoid(),\n",
    "            nn.Linear(128,10,bias=True),\n",
    "            nn.Sigmoid()\n",
    "        )\n",
    "    \n",
    "    def forward(self,x):\n",
    "        out=self.layer1(x)\n",
    "        out=out.view(out.size(0),-1)\n",
    "        out=self.layer2(out)\n",
    "        return out\n",
    "    "
   ]
  },
  {
   "cell_type": "markdown",
   "metadata": {},
   "source": [
    "Download Data"
   ]
  },
  {
   "cell_type": "code",
   "execution_count": 4,
   "metadata": {},
   "outputs": [
    {
     "name": "stdout",
     "output_type": "stream",
     "text": [
      "Files already downloaded and verified\n",
      "Files already downloaded and verified\n"
     ]
    }
   ],
   "source": [
    "trans=transforms.Compose([transforms.ToTensor()])\n",
    "\n",
    "train_set=dsets.CIFAR10(root='./CIFAR10',train=True,download=True,transform=trans)\n",
    "train_loader=DataLoader(dataset=train_set,shuffle=True,batch_size=64)\n",
    "\n",
    "test_set=dsets.CIFAR10(root='./CIFAR10',train=False,download=True,transform=trans)\n",
    "test_loader=DataLoader(dataset=test_set,shuffle=True,batch_size=64)"
   ]
  },
  {
   "cell_type": "markdown",
   "metadata": {},
   "source": [
    "Train"
   ]
  },
  {
   "cell_type": "code",
   "execution_count": 5,
   "metadata": {},
   "outputs": [
    {
     "name": "stdout",
     "output_type": "stream",
     "text": [
      "Epoch 0, cost = 1.931686477\n",
      "Epoch 1, cost = 1.808656009\n",
      "Epoch 2, cost = 1.756823983\n",
      "Epoch 3, cost = 1.718825387\n",
      "Epoch 4, cost = 1.689883124\n",
      "Epoch 5, cost = 1.667040643\n",
      "Epoch 6, cost = 1.647536059\n",
      "Epoch 7, cost = 1.629674425\n",
      "Epoch 8, cost = 1.615868066\n",
      "Epoch 9, cost = 1.603408310\n",
      "Epoch 10, cost = 1.591456767\n",
      "Epoch 11, cost = 1.580173865\n",
      "Epoch 12, cost = 1.571520287\n",
      "Epoch 13, cost = 1.564063676\n",
      "Epoch 14, cost = 1.556665942\n"
     ]
    }
   ],
   "source": [
    "GPU=True\n",
    "\n",
    "model=Net()\n",
    "\n",
    "criterion=nn.CrossEntropyLoss()\n",
    "optimizer=optim.Adam(model.parameters())\n",
    "\n",
    "if GPU:\n",
    "    model=model.to('cuda')\n",
    "    criterion=criterion.to('cuda')\n",
    "    \n",
    "for epoch in range(15):\n",
    "    avg_cost=0.0\n",
    "    for X,Y in train_loader:\n",
    "        if GPU:\n",
    "            X,Y=X.to('cuda'),Y.to('cuda')\n",
    "        \n",
    "        hypothesis=model(X)\n",
    "        \n",
    "        cost=criterion(hypothesis,Y)\n",
    "        \n",
    "        optimizer.zero_grad()\n",
    "        cost.backward()\n",
    "        optimizer.step()\n",
    "        \n",
    "        avg_cost+=cost.item()\n",
    "        \n",
    "    avg_cost/=len(train_loader)\n",
    "    print('Epoch {}, cost = {:.9f}'.format(epoch,avg_cost))\n",
    "        "
   ]
  },
  {
   "cell_type": "markdown",
   "metadata": {},
   "source": [
    "Test"
   ]
  },
  {
   "cell_type": "code",
   "execution_count": 9,
   "metadata": {},
   "outputs": [
    {
     "name": "stdout",
     "output_type": "stream",
     "text": [
      "\t frog \t ship \t dog \t cat "
     ]
    },
    {
     "data": {
      "image/png": "[encoded data removed]",
      "text/plain": [
       "<Figure size 432x288 with 4 Axes>"
      ]
     },
     "metadata": {
      "needs_background": "light"
     },
     "output_type": "display_data"
    },
    {
     "name": "stdout",
     "output_type": "stream",
     "text": [
      "Accuracy = tensor(0.7039, device='cuda:0')\n"
     ]
    }
   ],
   "source": [
    "\n",
    "accuracy=0.0\n",
    "\n",
    "classes=('plane','car','bird','cat','deer','dog','frog','horse','ship','truck')\n",
    "\n",
    "for X,Y in test_loader:\n",
    "    if GPU:\n",
    "        X,Y=X.to('cuda'),Y.to('cuda')\n",
    "    \n",
    "    predict=model(X)\n",
    "    \n",
    "    acc=(predict.argmax(1)==Y).float().mean()\n",
    "    \n",
    "    accuracy+=acc\n",
    "else:\n",
    "    fig,(axes)=plt.subplots(1,4)\n",
    "    \n",
    "    for i,ax in enumerate(axes):\n",
    "        ax.imshow(X[i].view(3,32,32).permute(1,2,0).cpu().numpy())\n",
    "        print('\\t',classes[predict[i].argmax()],end=' ')\n",
    "    plt.show()\n",
    "    \n",
    "accuracy/=len(test_loader)\n",
    "\n",
    "print('Accuracy =',accuracy)"
   ]
  }
 ],
 "metadata": {
  "kernelspec": {
   "display_name": "PyTorch",
   "language": "python",
   "name": "pytorch"
  },
  "language_info": {
   "codemirror_mode": {
    "name": "ipython",
    "version": 3
   },
   "file_extension": ".py",
   "mimetype": "text/x-python",
   "name": "python",
   "nbconvert_exporter": "python",
   "pygments_lexer": "ipython3",
   "version": "3.7.3"
  }
 },
 "nbformat": 4,
 "nbformat_minor": 2
}
