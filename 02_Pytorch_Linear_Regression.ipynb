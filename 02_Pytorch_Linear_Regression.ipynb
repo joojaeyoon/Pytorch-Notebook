{
 "cells": [
  {
   "cell_type": "code",
   "execution_count": 24,
   "metadata": {},
   "outputs": [],
   "source": [
    "import torch\n",
    "import torch.nn as nn\n",
    "import torch.optim as optim\n",
    "import torch.nn.functional as F\n",
    "import matplotlib.pyplot as plt\n",
    "import numpy as np\n",
    "import pandas as pd\n",
    "\n",
    "%matplotlib inline"
   ]
  },
  {
   "cell_type": "markdown",
   "metadata": {},
   "source": [
    "# Linear Regression"
   ]
  },
  {
   "cell_type": "code",
   "execution_count": 13,
   "metadata": {
    "scrolled": true
   },
   "outputs": [
    {
     "name": "stdout",
     "output_type": "stream",
     "text": [
      "Epoch 0, cost = 18.666666031, W = 0.0100, b = 0.0100\n",
      "Epoch 1000, cost = 0.056778032, W = 1.7183, b = 0.6243\n",
      "Epoch 2000, cost = 0.001027451, W = 1.9622, b = 0.0839\n",
      "Epoch 3000, cost = 0.000000686, W = 1.9990, b = 0.0022\n",
      "Epoch 4000, cost = 0.000000000, W = 2.0000, b = 0.0000\n",
      "Epoch 5000, cost = 0.000000000, W = 2.0000, b = 0.0000\n",
      "Epoch 6000, cost = 0.000000000, W = 2.0000, b = 0.0000\n",
      "Epoch 7000, cost = 0.000000000, W = 2.0000, b = 0.0000\n",
      "Epoch 8000, cost = 0.000000000, W = 2.0000, b = 0.0000\n",
      "Epoch 9000, cost = 0.000000000, W = 2.0000, b = 0.0000\n",
      "Epoch 10000, cost = 0.000000000, W = 2.0000, b = 0.0000\n",
      "tensor([[12.],\n",
      "        [14.],\n",
      "        [16.]])\n"
     ]
    },
    {
     "data": {
      "image/png": "[encoded data removed]",
      "text/plain": [
       "<Figure size 432x288 with 1 Axes>"
      ]
     },
     "metadata": {
      "needs_background": "light"
     },
     "output_type": "display_data"
    }
   ],
   "source": [
    "\n",
    "x_train=torch.FloatTensor([[1],[2],[3]])\n",
    "y_train=torch.FloatTensor([[2],[4],[6]])\n",
    "\n",
    "x_test=torch.FloatTensor([[6],[7],[8]])\n",
    "y_test=torch.FloatTensor([[12],[14],[16]])\n",
    "\n",
    "W=torch.zeros(1,requires_grad=True)\n",
    "b=torch.zeros(1,requires_grad=True)\n",
    "\n",
    "optimizer=optim.Adam([W,b],lr=0.01)\n",
    "\n",
    "for epoch in range(10001):\n",
    "    hypothesis=x_train*W+b\n",
    "    \n",
    "    optimizer.zero_grad()\n",
    "    \n",
    "    cost=torch.mean((hypothesis-y_train)**2)\n",
    "    cost.backward()\n",
    "    \n",
    "    optimizer.step()\n",
    "    \n",
    "    if epoch%1000==0:\n",
    "        print('Epoch {}, cost = {:.9f}, W = {:.4f}, b = {:.4f}'.format(epoch,cost.item(),W.item(),b.item()))\n",
    "    \n",
    "with torch.no_grad():\n",
    "    predict=x_test*W+b\n",
    "    print(predict)\n",
    "    \n",
    "    plt.scatter(x_test,y_test)\n",
    "    plt.plot(x_test.numpy(),predict.numpy())\n",
    "    plt.show()"
   ]
  },
  {
   "cell_type": "markdown",
   "metadata": {},
   "source": [
    "# Multivariate Linear Regression"
   ]
  },
  {
   "cell_type": "code",
   "execution_count": 49,
   "metadata": {},
   "outputs": [
    {
     "data": {
      "text/html": [
       "<div>\n",
       "<style scoped>\n",
       "    .dataframe tbody tr th:only-of-type {\n",
       "        vertical-align: middle;\n",
       "    }\n",
       "\n",
       "    .dataframe tbody tr th {\n",
       "        vertical-align: top;\n",
       "    }\n",
       "\n",
       "    .dataframe thead th {\n",
       "        text-align: right;\n",
       "    }\n",
       "</style>\n",
       "<table border=\"1\" class=\"dataframe\">\n",
       "  <thead>\n",
       "    <tr style=\"text-align: right;\">\n",
       "      <th></th>\n",
       "      <th>0</th>\n",
       "      <th>1</th>\n",
       "      <th>2</th>\n",
       "      <th>result</th>\n",
       "    </tr>\n",
       "  </thead>\n",
       "  <tbody>\n",
       "    <tr>\n",
       "      <th>0</th>\n",
       "      <td>73.0</td>\n",
       "      <td>80.0</td>\n",
       "      <td>75.0</td>\n",
       "      <td>175.0</td>\n",
       "    </tr>\n",
       "    <tr>\n",
       "      <th>1</th>\n",
       "      <td>93.0</td>\n",
       "      <td>88.0</td>\n",
       "      <td>93.0</td>\n",
       "      <td>185.0</td>\n",
       "    </tr>\n",
       "    <tr>\n",
       "      <th>2</th>\n",
       "      <td>89.0</td>\n",
       "      <td>91.0</td>\n",
       "      <td>80.0</td>\n",
       "      <td>180.0</td>\n",
       "    </tr>\n",
       "    <tr>\n",
       "      <th>3</th>\n",
       "      <td>96.0</td>\n",
       "      <td>98.0</td>\n",
       "      <td>100.0</td>\n",
       "      <td>196.0</td>\n",
       "    </tr>\n",
       "    <tr>\n",
       "      <th>4</th>\n",
       "      <td>73.0</td>\n",
       "      <td>66.0</td>\n",
       "      <td>70.0</td>\n",
       "      <td>142.0</td>\n",
       "    </tr>\n",
       "  </tbody>\n",
       "</table>\n",
       "</div>"
      ],
      "text/plain": [
       "      0     1      2  result\n",
       "0  73.0  80.0   75.0   175.0\n",
       "1  93.0  88.0   93.0   185.0\n",
       "2  89.0  91.0   80.0   180.0\n",
       "3  96.0  98.0  100.0   196.0\n",
       "4  73.0  66.0   70.0   142.0"
      ]
     },
     "execution_count": 49,
     "metadata": {},
     "output_type": "execute_result"
    }
   ],
   "source": [
    "x_train=torch.FloatTensor([[73,80,75],\n",
    "                          [93,88,93],\n",
    "                          [89,91,80],\n",
    "                          [96,98,100],\n",
    "                          [73,66,70]])\n",
    "y_train=torch.FloatTensor([[175],[185],[180],[196],[142]])\n",
    "\n",
    "df=pd.DataFrame(x_train.numpy())\n",
    "df['result']=y_train.numpy()\n",
    "\n",
    "df"
   ]
  },
  {
   "cell_type": "code",
   "execution_count": 51,
   "metadata": {},
   "outputs": [
    {
     "name": "stdout",
     "output_type": "stream",
     "text": [
      "Epoch 0, cost = 18619.648437500\n",
      "Epoch 1000, cost = 60.214290619\n",
      "Epoch 2000, cost = 52.808219910\n",
      "Epoch 3000, cost = 44.826484680\n",
      "Epoch 4000, cost = 38.518627167\n",
      "Epoch 5000, cost = 33.982631683\n",
      "Epoch 6000, cost = 29.592504501\n",
      "Epoch 7000, cost = 24.665334702\n",
      "Epoch 8000, cost = 19.756641388\n",
      "Epoch 9000, cost = 15.608596802\n",
      "Epoch 10000, cost = 12.641724586\n",
      "tensor([[191.2197]])\n"
     ]
    },
    {
     "data": {
      "text/html": [
       "<div>\n",
       "<style scoped>\n",
       "    .dataframe tbody tr th:only-of-type {\n",
       "        vertical-align: middle;\n",
       "    }\n",
       "\n",
       "    .dataframe tbody tr th {\n",
       "        vertical-align: top;\n",
       "    }\n",
       "\n",
       "    .dataframe thead th {\n",
       "        text-align: right;\n",
       "    }\n",
       "</style>\n",
       "<table border=\"1\" class=\"dataframe\">\n",
       "  <thead>\n",
       "    <tr style=\"text-align: right;\">\n",
       "      <th></th>\n",
       "      <th>0</th>\n",
       "      <th>1</th>\n",
       "      <th>2</th>\n",
       "      <th>result</th>\n",
       "    </tr>\n",
       "  </thead>\n",
       "  <tbody>\n",
       "    <tr>\n",
       "      <th>0</th>\n",
       "      <td>85.0</td>\n",
       "      <td>88.0</td>\n",
       "      <td>99.0</td>\n",
       "      <td>191.21965</td>\n",
       "    </tr>\n",
       "  </tbody>\n",
       "</table>\n",
       "</div>"
      ],
      "text/plain": [
       "      0     1     2     result\n",
       "0  85.0  88.0  99.0  191.21965"
      ]
     },
     "execution_count": 51,
     "metadata": {},
     "output_type": "execute_result"
    }
   ],
   "source": [
    "\n",
    "net=nn.Linear(3,1,bias=True)\n",
    "#W=torch.zeros((3,1),requires_grad=True)\n",
    "#b=torch.zeros(1,requires_grad=True)\n",
    "\n",
    "optimizer=optim.Adam(net.parameters(),lr=0.01)\n",
    "#optimizer=optim.Adam([W,b],lr=0.01)\n",
    "\n",
    "for epoch in range(10001):\n",
    "    \n",
    "    hypothesis=net(x_train)\n",
    "    #hypothesis=x_train*W+b\n",
    "    \n",
    "    optimizer.zero_grad()\n",
    "    \n",
    "    cost = F.mse_loss(hypothesis,y_train)\n",
    "    #cost = torch.mean((h-y_train)**2)\n",
    "    \n",
    "    cost.backward()\n",
    "    optimizer.step()\n",
    "    \n",
    "    if epoch % 1000 == 0:\n",
    "        print('Epoch {}, cost = {:.9f}'.format(epoch,cost.item()))\n",
    "\n",
    "x_test=torch.FloatTensor([[85,88,99]])\n",
    "\n",
    "df=pd.DataFrame(x_test.numpy())\n",
    "\n",
    "with torch.no_grad():\n",
    "    predict=net(x_test)\n",
    "    print(predict)\n",
    "    df['result']=predict.numpy()\n",
    "    \n",
    "df"
   ]
  }
 ],
 "metadata": {
  "kernelspec": {
   "display_name": "PyTorch",
   "language": "python",
   "name": "pytorch"
  },
  "language_info": {
   "codemirror_mode": {
    "name": "ipython",
    "version": 3
   },
   "file_extension": ".py",
   "mimetype": "text/x-python",
   "name": "python",
   "nbconvert_exporter": "python",
   "pygments_lexer": "ipython3",
   "version": "3.7.3"
  }
 },
 "nbformat": 4,
 "nbformat_minor": 2
}
